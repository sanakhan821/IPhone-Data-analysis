{
 "cells": [
  {
   "cell_type": "markdown",
   "id": "5038eb6b",
   "metadata": {},
   "source": [
    "# 📱 iPhone Sales Analysis Project\n",
    "This notebook analyzes iPhone sales, ratings, reviews, and pricing data to uncover trends and insights.\n",
    "We follow a structured approach based on the Data Visualization Project rubric."
   ]
  },
  {
   "cell_type": "code",
   "execution_count": null,
   "id": "bcadcbca",
   "metadata": {},
   "outputs": [],
   "source": [
    "# Import necessary libraries\n",
    "import pandas as pd\n",
    "import numpy as np\n",
    "import matplotlib.pyplot as plt\n",
    "import seaborn as sns\n",
    "sns.set(style='whitegrid')\n",
    "%matplotlib inline"
   ]
  },
  {
   "cell_type": "code",
   "execution_count": null,
   "id": "97006a98",
   "metadata": {},
   "outputs": [],
   "source": [
    "# Load dataset\n",
    "df = pd.read_csv('apple_products.csv')\n",
    "df.head()"
   ]
  },
  {
   "cell_type": "markdown",
   "id": "de7607eb",
   "metadata": {},
   "source": [
    "## 🔍 1. Data Cleaning and Handling Missing Values"
   ]
  },
  {
   "cell_type": "code",
   "execution_count": null,
   "id": "2a99eb81",
   "metadata": {},
   "outputs": [],
   "source": [
    "# Check for missing values\n",
    "df.isnull().sum()"
   ]
  },
  {
   "cell_type": "code",
   "execution_count": null,
   "id": "e1274680",
   "metadata": {},
   "outputs": [],
   "source": [
    "# Visualize missing data\n",
    "plt.figure(figsize=(10,6))\n",
    "sns.heatmap(df.isnull(), cbar=False, cmap='viridis')\n",
    "plt.title('Missing Values Heatmap')\n",
    "plt.show()"
   ]
  },
  {
   "cell_type": "markdown",
   "id": "5e139953",
   "metadata": {},
   "source": [
    "## 🧠 2. Feature Selection and Engineering"
   ]
  },
  {
   "cell_type": "code",
   "execution_count": null,
   "id": "83d53ee1",
   "metadata": {},
   "outputs": [],
   "source": [
    "# Example of new features\n",
    "df['DiscountAmount'] = df['MRP'] - df['Sale Price']\n",
    "df['DiscountPercent'] = (df['DiscountAmount'] / df['MRP']) * 100\n",
    "df.head()"
   ]
  },
  {
   "cell_type": "markdown",
   "id": "bd6d950f",
   "metadata": {},
   "source": [
    "## 🔒 3. Data Integrity and Consistency"
   ]
  },
  {
   "cell_type": "code",
   "execution_count": null,
   "id": "bb035e8a",
   "metadata": {},
   "outputs": [],
   "source": [
    "# Check for duplicate or inconsistent entries\n",
    "df['Product Name'] = df['Product Name'].str.strip()\n",
    "df['Product Name'].value_counts().head()"
   ]
  },
  {
   "cell_type": "markdown",
   "id": "92311c18",
   "metadata": {},
   "source": [
    "## 📊 4. Summary Statistics and Insights"
   ]
  },
  {
   "cell_type": "code",
   "execution_count": null,
   "id": "ed6ccd9f",
   "metadata": {},
   "outputs": [],
   "source": [
    "# Get summary statistics\n",
    "df.describe()"
   ]
  },
  {
   "cell_type": "markdown",
   "id": "c754b39a",
   "metadata": {},
   "source": [
    "## 🔍 5. Identifying Patterns, Trends, and Anomalies"
   ]
  },
  {
   "cell_type": "code",
   "execution_count": null,
   "id": "d30f0dd4",
   "metadata": {},
   "outputs": [],
   "source": [
    "# Plot ratings vs sale price\n",
    "plt.figure(figsize=(10,6))\n",
    "sns.scatterplot(data=df, x='Sale Price', y='Rating', hue='Product Name')\n",
    "plt.title('Sale Price vs Rating')\n",
    "plt.show()"
   ]
  },
  {
   "cell_type": "markdown",
   "id": "632a877c",
   "metadata": {},
   "source": [
    "## 🚨 6. Handling Outliers and Data Transformations"
   ]
  },
  {
   "cell_type": "code",
   "execution_count": null,
   "id": "689cbedf",
   "metadata": {},
   "outputs": [],
   "source": [
    "# Visualize potential outliers in Sale Price\n",
    "plt.figure(figsize=(10,6))\n",
    "sns.boxplot(x=df['Sale Price'])\n",
    "plt.title('Outliers in Sale Price')\n",
    "plt.show()"
   ]
  },
  {
   "cell_type": "markdown",
   "id": "b0c86a8a",
   "metadata": {},
   "source": [
    "## 📈 7. Visual Representation of Key Findings"
   ]
  },
  {
   "cell_type": "code",
   "execution_count": null,
   "id": "49e18427",
   "metadata": {},
   "outputs": [],
   "source": [
    "# Correlation heatmap\n",
    "plt.figure(figsize=(10,6))\n",
    "sns.heatmap(df.corr(), annot=True, cmap='coolwarm')\n",
    "plt.title('Correlation Heatmap')\n",
    "plt.show()"
   ]
  },
  {
   "cell_type": "markdown",
   "id": "c0eda237",
   "metadata": {},
   "source": [
    "\n",
    "## 📘 8. Final Insights & Storytelling\n",
    "\n",
    "Based on the visualized data, here are the key insights:\n",
    "\n",
    "- 📉 **Sale Price vs. Number of Ratings**: There's a negative correlation, indicating that lower-priced iPhones tend to receive more ratings. This suggests affordability boosts popularity and user engagement.\n",
    "- 🎯 **Discount Percentage vs. Number of Ratings**: A positive trend is observed — iPhones with higher discounts receive more ratings. Discounts appear to drive higher customer response.\n",
    "- ⭐ **Strategic Insight**: To maximize customer engagement and reviews, mid-range or discounted iPhones could be promoted more actively.\n",
    "- 💡 **Recommendation**: Future marketing strategies should leverage discounts and optimize pricing tiers for greater product visibility.\n",
    "\n",
    "These findings can support business decisions for marketing, inventory, and pricing optimization.\n"
   ]
  },
  {
   "cell_type": "markdown",
   "id": "a7b68860",
   "metadata": {},
   "source": [
    "\n",
    "## 🌐 Interactive Visualization: Sale Price vs Number of Reviews\n",
    "\n",
    "The following interactive chart uses Plotly to explore the relationship between **sale price** and **number of reviews** for various iPhone models. You can hover over points to view more detail.\n"
   ]
  },
  {
   "cell_type": "code",
   "execution_count": null,
   "id": "76004044",
   "metadata": {},
   "outputs": [],
   "source": [
    "\n",
    "import plotly.express as px\n",
    "\n",
    "# Ensure 'df' exists from previous cells\n",
    "fig = px.scatter(\n",
    "    df,\n",
    "    x='sale_price',\n",
    "    y='number_of_reviews',\n",
    "    color='product_name',\n",
    "    hover_data=['discount_percentage'],\n",
    "    title='📉 Sale Price vs Number of Reviews (Interactive)'\n",
    ")\n",
    "\n",
    "fig.show()\n"
   ]
  }
 ],
 "metadata": {
  "kernelspec": {
   "display_name": "Python 3",
   "language": "python",
   "name": "python3"
  },
  "language_info": {
   "name": "python",
   "version": "3.9"
  }
 },
 "nbformat": 4,
 "nbformat_minor": 5
}
